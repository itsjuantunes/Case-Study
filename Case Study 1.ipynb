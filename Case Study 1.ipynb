{
 "cells": [
  {
   "cell_type": "markdown",
   "metadata": {},
   "source": [
    "# Case Study: How Does a Bike-Share Navigate Speedy Success? \n",
    "\n",
    "## Table of Contents\n",
    "<ul>\n",
    "<li><a href=\"#intro\">Introduction</a></li>\n",
    "<li><a href=\"#ask\">Ask</a></li>\n",
    "<li><a href=\"#Prepare\">Prepare</a></li>\n",
    "<li><a href=\"#Process\">Process</a></li>\n",
    "<li><a href=\"#Share\">Share</a></li>\n",
    "<li><a href=\"#Act\">Act</a></li>\n",
    "</ul>"
   ]
  },
  {
   "cell_type": "markdown",
   "metadata": {},
   "source": [
    "<a id='intro'></a>\n",
    "## Introduction\n",
    "\n",
    "This case study is a required project for the “Google Data Analytics Professional Certificate”. We will use date from a fiction company called Cyclist to povide insights for the management about the behaviour of user types\n"
   ]
  },
  {
   "cell_type": "markdown",
   "metadata": {},
   "source": [
    "<a id='Ask'></a>\n",
    "## Ask\n",
    "\n",
    "Many different questions can be asked with this dataset, but I have been assigned to\n",
    "“How do annual members and casual riders use Cyclistic bikes differently?” In order to get insights from this data, the following questions will be answered:\n",
    "\n",
    "* 1. What is the average lenght of rides per day of the week?\n",
    "* 2. What is the total average lenght of rides?\n",
    "* 3. What is the total number od rides per member type?\n",
    "* 4. What is the total number od rides per member type and month?\n",
    "* 5. What is the total number od rides per member type and day of the week?\n",
    "\n",
    "Let's find out!\n"
   ]
  },
  {
   "cell_type": "markdown",
   "metadata": {},
   "source": [
    "<a id='wrangling'></a>\n",
    "## Prepare\n",
    "\n",
    "> In this section of the report, I will load in the data, check for cleanliness, and then trim and clean my dataset for analysis. \n",
    "\n",
    "### General Properties"
   ]
  },
  {
   "cell_type": "markdown",
   "metadata": {},
   "source": [
    "I have used “Cyclistic’s historical trip” data to analyze and identify trends. The data has been made available by Motivate International Inc, on a website and I downloaded the previous 12 months of Cyclistic trip data, from August 2021 to July 2022.  \n",
    "\n",
    "There is no way to know if the data is original or reliable since it has been made available by Amazon, but for the purpose of this case study is trustworthy enough. The data is comprehensive even though it doesn’t contain any personal information. \n",
    "\n",
    "The data belongs to a public dataset under the following license: “Bikeshare hereby grants to you a non-exclusive, royalty-free, limited, perpetual license to access, reproduce, analyze, copy, modify, distribute in your product or service and use the Data for any lawful purpose (“License”).” More information about it can be found at https://ride.divvybikes.com/data-license-agreement.  \n",
    "\n",
    "Now, let's begin to prepare our data for analysis"
   ]
  },
  {
   "cell_type": "markdown",
   "metadata": {},
   "source": [
    "<a id='Process'></a>\n",
    "## Process\n",
    "\n",
    "> I have chosen to use python to clean and prepare my data. Later on, I will add the data into Tableau to create the visualizations. "
   ]
  },
  {
   "cell_type": "code",
   "execution_count": 1,
   "metadata": {},
   "outputs": [],
   "source": [
    "# Import statements for all of the packages that I plan to use.\n",
    "import pandas as pd\n",
    "import numpy as np\n",
    "import matplotlib.pyplot as plt\n",
    "import os\n",
    "import glob\n",
    "os.chdir(\"/Users/juliana.antunes_dp6/Downloads/tripdata\")\n",
    "\n",
    "# 'magic word' to plot my visualizations\n",
    "%matplotlib inline"
   ]
  },
  {
   "cell_type": "code",
   "execution_count": 2,
   "metadata": {},
   "outputs": [],
   "source": [
    "#Combine all 12 csv in one file\n",
    "#Using os to match the pattern that I am using‘csv’\n",
    "extension = 'csv'\n",
    "all_filenames = [i for i in glob.glob('*.{}'.format(extension))]"
   ]
  },
  {
   "cell_type": "code",
   "execution_count": 3,
   "metadata": {
    "scrolled": true
   },
   "outputs": [
    {
     "data": {
      "text/html": [
       "<div>\n",
       "<style scoped>\n",
       "    .dataframe tbody tr th:only-of-type {\n",
       "        vertical-align: middle;\n",
       "    }\n",
       "\n",
       "    .dataframe tbody tr th {\n",
       "        vertical-align: top;\n",
       "    }\n",
       "\n",
       "    .dataframe thead th {\n",
       "        text-align: right;\n",
       "    }\n",
       "</style>\n",
       "<table border=\"1\" class=\"dataframe\">\n",
       "  <thead>\n",
       "    <tr style=\"text-align: right;\">\n",
       "      <th></th>\n",
       "      <th>ride_id</th>\n",
       "      <th>rideable_type</th>\n",
       "      <th>started_at</th>\n",
       "      <th>ended_at</th>\n",
       "      <th>start_station_name</th>\n",
       "      <th>start_station_id</th>\n",
       "      <th>end_station_name</th>\n",
       "      <th>end_station_id</th>\n",
       "      <th>start_lat</th>\n",
       "      <th>start_lng</th>\n",
       "      <th>end_lat</th>\n",
       "      <th>end_lng</th>\n",
       "      <th>member_casual</th>\n",
       "      <th>ride_lenght</th>\n",
       "      <th>week_day</th>\n",
       "      <th>month</th>\n",
       "    </tr>\n",
       "  </thead>\n",
       "  <tbody>\n",
       "    <tr>\n",
       "      <th>0</th>\n",
       "      <td>99103BB87CC6C1BB</td>\n",
       "      <td>electric_bike</td>\n",
       "      <td>2021-08-10 17:15:49</td>\n",
       "      <td>2021-08-10 17:22:44</td>\n",
       "      <td>NaN</td>\n",
       "      <td>NaN</td>\n",
       "      <td>NaN</td>\n",
       "      <td>NaN</td>\n",
       "      <td>41.77</td>\n",
       "      <td>-87.68</td>\n",
       "      <td>41.77</td>\n",
       "      <td>-87.68</td>\n",
       "      <td>member</td>\n",
       "      <td>NaN</td>\n",
       "      <td>NaN</td>\n",
       "      <td>NaN</td>\n",
       "    </tr>\n",
       "    <tr>\n",
       "      <th>1</th>\n",
       "      <td>EAFCCCFB0A3FC5A1</td>\n",
       "      <td>electric_bike</td>\n",
       "      <td>2021-08-10 17:23:14</td>\n",
       "      <td>2021-08-10 17:39:24</td>\n",
       "      <td>NaN</td>\n",
       "      <td>NaN</td>\n",
       "      <td>NaN</td>\n",
       "      <td>NaN</td>\n",
       "      <td>41.77</td>\n",
       "      <td>-87.68</td>\n",
       "      <td>41.77</td>\n",
       "      <td>-87.63</td>\n",
       "      <td>member</td>\n",
       "      <td>NaN</td>\n",
       "      <td>NaN</td>\n",
       "      <td>NaN</td>\n",
       "    </tr>\n",
       "  </tbody>\n",
       "</table>\n",
       "</div>"
      ],
      "text/plain": [
       "            ride_id  rideable_type           started_at             ended_at  \\\n",
       "0  99103BB87CC6C1BB  electric_bike  2021-08-10 17:15:49  2021-08-10 17:22:44   \n",
       "1  EAFCCCFB0A3FC5A1  electric_bike  2021-08-10 17:23:14  2021-08-10 17:39:24   \n",
       "\n",
       "  start_station_name start_station_id end_station_name end_station_id  \\\n",
       "0                NaN              NaN              NaN            NaN   \n",
       "1                NaN              NaN              NaN            NaN   \n",
       "\n",
       "   start_lat  start_lng  end_lat  end_lng member_casual  ride_lenght week_day  \\\n",
       "0      41.77     -87.68    41.77   -87.68        member          NaN      NaN   \n",
       "1      41.77     -87.68    41.77   -87.63        member          NaN      NaN   \n",
       "\n",
       "  month  \n",
       "0   NaN  \n",
       "1   NaN  "
      ]
     },
     "execution_count": 3,
     "metadata": {},
     "output_type": "execute_result"
    }
   ],
   "source": [
    "# Loading data\n",
    "df = pd.concat([pd.read_csv(f) for f in all_filenames ])\n",
    "df.head(2)"
   ]
  },
  {
   "cell_type": "code",
   "execution_count": 4,
   "metadata": {
    "scrolled": true
   },
   "outputs": [
    {
     "data": {
      "text/plain": [
       "(39671072, 16)"
      ]
     },
     "execution_count": 4,
     "metadata": {},
     "output_type": "execute_result"
    }
   ],
   "source": [
    "#The shape function will give me the number of columns and rows in my dataset\n",
    "df.shape"
   ]
  },
  {
   "cell_type": "markdown",
   "metadata": {},
   "source": [
    "Now, to get a concise summary of the df, that is, a quick overview of the dataset when doing exploratory analysis of the data, we use the .info() function"
   ]
  },
  {
   "cell_type": "code",
   "execution_count": 5,
   "metadata": {
    "scrolled": true
   },
   "outputs": [
    {
     "name": "stdout",
     "output_type": "stream",
     "text": [
      "<class 'pandas.core.frame.DataFrame'>\n",
      "Int64Index: 39671072 entries, 0 to 9257236\n",
      "Data columns (total 16 columns):\n",
      " #   Column              Dtype  \n",
      "---  ------              -----  \n",
      " 0   ride_id             object \n",
      " 1   rideable_type       object \n",
      " 2   started_at          object \n",
      " 3   ended_at            object \n",
      " 4   start_station_name  object \n",
      " 5   start_station_id    object \n",
      " 6   end_station_name    object \n",
      " 7   end_station_id      object \n",
      " 8   start_lat           float64\n",
      " 9   start_lng           float64\n",
      " 10  end_lat             float64\n",
      " 11  end_lng             float64\n",
      " 12  member_casual       object \n",
      " 13  ride_lenght         float64\n",
      " 14  week_day            object \n",
      " 15  month               object \n",
      "dtypes: float64(5), object(11)\n",
      "memory usage: 5.0+ GB\n"
     ]
    }
   ],
   "source": [
    "#Checking for information on the dataset, like duplicated entries and data types\n",
    "df.info()"
   ]
  },
  {
   "cell_type": "markdown",
   "metadata": {},
   "source": [
    "Now let's use the isnull function to see the if we have and which are the exact features and counts of rows cointaining Null Values"
   ]
  },
  {
   "cell_type": "code",
   "execution_count": 6,
   "metadata": {},
   "outputs": [
    {
     "data": {
      "text/plain": [
       "ride_id                      1\n",
       "rideable_type         33769609\n",
       "started_at            25414020\n",
       "ended_at              25414020\n",
       "start_station_name      860786\n",
       "start_station_id      34630393\n",
       "end_station_name        919896\n",
       "end_station_id        34689505\n",
       "start_lat             33769609\n",
       "start_lng             33769609\n",
       "end_lat               33775199\n",
       "end_lng               33775199\n",
       "member_casual                0\n",
       "ride_lenght            5901463\n",
       "week_day               5901463\n",
       "month                  5901463\n",
       "dtype: int64"
      ]
     },
     "execution_count": 6,
     "metadata": {},
     "output_type": "execute_result"
    }
   ],
   "source": [
    "# Check for null values. \n",
    "df.isnull().sum()"
   ]
  },
  {
   "cell_type": "markdown",
   "metadata": {},
   "source": [
    "Now, we're going to check if the dataset contains duplications"
   ]
  },
  {
   "cell_type": "code",
   "execution_count": 7,
   "metadata": {},
   "outputs": [
    {
     "data": {
      "text/plain": [
       "24511370"
      ]
     },
     "execution_count": 7,
     "metadata": {},
     "output_type": "execute_result"
    }
   ],
   "source": [
    "#Checking for duplicated entries\n",
    "df.duplicated().sum()"
   ]
  },
  {
   "cell_type": "markdown",
   "metadata": {},
   "source": [
    "> In this section of the report, I will clean the erros I found on the section above in order to start my analysis"
   ]
  },
  {
   "cell_type": "markdown",
   "metadata": {},
   "source": [
    "Since there is enough rows not to compromise the study, I will remove the data with null values from our dataset"
   ]
  },
  {
   "cell_type": "code",
   "execution_count": 8,
   "metadata": {},
   "outputs": [
    {
     "name": "stdout",
     "output_type": "stream",
     "text": [
      "ride_id                      1\n",
      "rideable_type         33769609\n",
      "started_at            25414020\n",
      "ended_at              25414020\n",
      "start_station_name      860786\n",
      "start_station_id      34630393\n",
      "end_station_name        919896\n",
      "end_station_id        34689505\n",
      "start_lat             33769609\n",
      "start_lng             33769609\n",
      "end_lat               33775199\n",
      "end_lng               33775199\n",
      "ride_lenght            5901463\n",
      "week_day               5901463\n",
      "month                  5901463\n",
      "dtype: int64\n"
     ]
    }
   ],
   "source": [
    "#Finding out which columns now have null values\n",
    "na=df.isna().sum()\n",
    "\n",
    "#Displaying only the null containing columns names along with the count of null values\n",
    "print(na[na>0])"
   ]
  },
  {
   "cell_type": "code",
   "execution_count": 9,
   "metadata": {},
   "outputs": [
    {
     "name": "stdout",
     "output_type": "stream",
     "text": [
      "ride_lenght    4629230\n",
      "week_day       4629230\n",
      "month          4629230\n",
      "dtype: int64\n"
     ]
    }
   ],
   "source": [
    "#Dropping the null values\n",
    "df.dropna(subset=[\"start_station_name\",\"start_station_id\",\"end_station_name\",\"end_station_id\",\"end_lat\",\"end_lng\"], inplace=True)  \n",
    "\n",
    "#Checking the amount of null values after dropping\n",
    "na=df.isna().sum()\n",
    "print(na[na>0])"
   ]
  },
  {
   "cell_type": "code",
   "execution_count": 10,
   "metadata": {
    "scrolled": true
   },
   "outputs": [
    {
     "data": {
      "text/plain": [
       "ride_id                object\n",
       "rideable_type          object\n",
       "started_at             object\n",
       "ended_at               object\n",
       "start_station_name     object\n",
       "start_station_id       object\n",
       "end_station_name       object\n",
       "end_station_id         object\n",
       "start_lat             float64\n",
       "start_lng             float64\n",
       "end_lat               float64\n",
       "end_lng               float64\n",
       "member_casual          object\n",
       "ride_lenght           float64\n",
       "week_day               object\n",
       "month                  object\n",
       "dtype: object"
      ]
     },
     "execution_count": 10,
     "metadata": {},
     "output_type": "execute_result"
    }
   ],
   "source": [
    "df.dtypes"
   ]
  },
  {
   "cell_type": "markdown",
   "metadata": {},
   "source": [
    "Now we need to change the started_at and ended_at columns to time and create two new columns, as requested on the excercise."
   ]
  },
  {
   "cell_type": "code",
   "execution_count": 11,
   "metadata": {},
   "outputs": [],
   "source": [
    "df['ended_at'] = pd.to_datetime(df['ended_at'])\n",
    "df['started_at'] = pd.to_datetime(df['started_at'])"
   ]
  },
  {
   "cell_type": "markdown",
   "metadata": {},
   "source": [
    "> To have the information in secons, we have to transform the column of time into timestamp, and after that divide it by 10^9  to transform it from nanoseconds to seconds"
   ]
  },
  {
   "cell_type": "code",
   "execution_count": 12,
   "metadata": {
    "scrolled": true
   },
   "outputs": [
    {
     "data": {
      "text/html": [
       "<div>\n",
       "<style scoped>\n",
       "    .dataframe tbody tr th:only-of-type {\n",
       "        vertical-align: middle;\n",
       "    }\n",
       "\n",
       "    .dataframe tbody tr th {\n",
       "        vertical-align: top;\n",
       "    }\n",
       "\n",
       "    .dataframe thead th {\n",
       "        text-align: right;\n",
       "    }\n",
       "</style>\n",
       "<table border=\"1\" class=\"dataframe\">\n",
       "  <thead>\n",
       "    <tr style=\"text-align: right;\">\n",
       "      <th></th>\n",
       "      <th>ride_id</th>\n",
       "      <th>rideable_type</th>\n",
       "      <th>started_at</th>\n",
       "      <th>ended_at</th>\n",
       "      <th>start_station_name</th>\n",
       "      <th>start_station_id</th>\n",
       "      <th>end_station_name</th>\n",
       "      <th>end_station_id</th>\n",
       "      <th>start_lat</th>\n",
       "      <th>start_lng</th>\n",
       "      <th>end_lat</th>\n",
       "      <th>end_lng</th>\n",
       "      <th>member_casual</th>\n",
       "      <th>ride_lenght</th>\n",
       "      <th>week_day</th>\n",
       "      <th>month</th>\n",
       "    </tr>\n",
       "  </thead>\n",
       "  <tbody>\n",
       "    <tr>\n",
       "      <th>30</th>\n",
       "      <td>DD06751C6019D865</td>\n",
       "      <td>classic_bike</td>\n",
       "      <td>2021-08-08 17:21:26</td>\n",
       "      <td>2021-08-08 17:25:37</td>\n",
       "      <td>Desplaines St &amp; Kinzie St</td>\n",
       "      <td>TA1306000003</td>\n",
       "      <td>Kingsbury St &amp; Kinzie St</td>\n",
       "      <td>KA1503000043</td>\n",
       "      <td>41.888716</td>\n",
       "      <td>-87.644448</td>\n",
       "      <td>41.889177</td>\n",
       "      <td>-87.638506</td>\n",
       "      <td>member</td>\n",
       "      <td>251</td>\n",
       "      <td>NaN</td>\n",
       "      <td>NaN</td>\n",
       "    </tr>\n",
       "    <tr>\n",
       "      <th>36</th>\n",
       "      <td>79973DC3B232048F</td>\n",
       "      <td>classic_bike</td>\n",
       "      <td>2021-08-27 08:53:52</td>\n",
       "      <td>2021-08-27 09:18:29</td>\n",
       "      <td>Larrabee St &amp; Armitage Ave</td>\n",
       "      <td>TA1309000006</td>\n",
       "      <td>Michigan Ave &amp; Oak St</td>\n",
       "      <td>13042</td>\n",
       "      <td>41.918084</td>\n",
       "      <td>-87.643749</td>\n",
       "      <td>41.900960</td>\n",
       "      <td>-87.623777</td>\n",
       "      <td>member</td>\n",
       "      <td>1477</td>\n",
       "      <td>NaN</td>\n",
       "      <td>NaN</td>\n",
       "    </tr>\n",
       "    <tr>\n",
       "      <th>40</th>\n",
       "      <td>0249AD4B258806AD</td>\n",
       "      <td>classic_bike</td>\n",
       "      <td>2021-08-08 12:59:18</td>\n",
       "      <td>2021-08-08 12:59:55</td>\n",
       "      <td>Aberdeen St &amp; Jackson Blvd</td>\n",
       "      <td>13157</td>\n",
       "      <td>Aberdeen St &amp; Jackson Blvd</td>\n",
       "      <td>13157</td>\n",
       "      <td>41.877726</td>\n",
       "      <td>-87.654787</td>\n",
       "      <td>41.877726</td>\n",
       "      <td>-87.654787</td>\n",
       "      <td>member</td>\n",
       "      <td>37</td>\n",
       "      <td>NaN</td>\n",
       "      <td>NaN</td>\n",
       "    </tr>\n",
       "    <tr>\n",
       "      <th>72</th>\n",
       "      <td>F41EB054E44ACFDA</td>\n",
       "      <td>classic_bike</td>\n",
       "      <td>2021-08-12 16:52:09</td>\n",
       "      <td>2021-08-12 16:56:51</td>\n",
       "      <td>Michigan Ave &amp; Oak St</td>\n",
       "      <td>13042</td>\n",
       "      <td>Michigan Ave &amp; Oak St</td>\n",
       "      <td>13042</td>\n",
       "      <td>41.900960</td>\n",
       "      <td>-87.623777</td>\n",
       "      <td>41.900960</td>\n",
       "      <td>-87.623777</td>\n",
       "      <td>casual</td>\n",
       "      <td>282</td>\n",
       "      <td>NaN</td>\n",
       "      <td>NaN</td>\n",
       "    </tr>\n",
       "    <tr>\n",
       "      <th>121</th>\n",
       "      <td>B149E6C71A1C3B14</td>\n",
       "      <td>classic_bike</td>\n",
       "      <td>2021-08-23 15:33:04</td>\n",
       "      <td>2021-08-23 16:09:00</td>\n",
       "      <td>Michigan Ave &amp; Oak St</td>\n",
       "      <td>13042</td>\n",
       "      <td>Michigan Ave &amp; Oak St</td>\n",
       "      <td>13042</td>\n",
       "      <td>41.900960</td>\n",
       "      <td>-87.623777</td>\n",
       "      <td>41.900960</td>\n",
       "      <td>-87.623777</td>\n",
       "      <td>casual</td>\n",
       "      <td>2156</td>\n",
       "      <td>NaN</td>\n",
       "      <td>NaN</td>\n",
       "    </tr>\n",
       "  </tbody>\n",
       "</table>\n",
       "</div>"
      ],
      "text/plain": [
       "              ride_id rideable_type          started_at            ended_at  \\\n",
       "30   DD06751C6019D865  classic_bike 2021-08-08 17:21:26 2021-08-08 17:25:37   \n",
       "36   79973DC3B232048F  classic_bike 2021-08-27 08:53:52 2021-08-27 09:18:29   \n",
       "40   0249AD4B258806AD  classic_bike 2021-08-08 12:59:18 2021-08-08 12:59:55   \n",
       "72   F41EB054E44ACFDA  classic_bike 2021-08-12 16:52:09 2021-08-12 16:56:51   \n",
       "121  B149E6C71A1C3B14  classic_bike 2021-08-23 15:33:04 2021-08-23 16:09:00   \n",
       "\n",
       "             start_station_name start_station_id            end_station_name  \\\n",
       "30    Desplaines St & Kinzie St     TA1306000003    Kingsbury St & Kinzie St   \n",
       "36   Larrabee St & Armitage Ave     TA1309000006       Michigan Ave & Oak St   \n",
       "40   Aberdeen St & Jackson Blvd            13157  Aberdeen St & Jackson Blvd   \n",
       "72        Michigan Ave & Oak St            13042       Michigan Ave & Oak St   \n",
       "121       Michigan Ave & Oak St            13042       Michigan Ave & Oak St   \n",
       "\n",
       "    end_station_id  start_lat  start_lng    end_lat    end_lng member_casual  \\\n",
       "30    KA1503000043  41.888716 -87.644448  41.889177 -87.638506        member   \n",
       "36           13042  41.918084 -87.643749  41.900960 -87.623777        member   \n",
       "40           13157  41.877726 -87.654787  41.877726 -87.654787        member   \n",
       "72           13042  41.900960 -87.623777  41.900960 -87.623777        casual   \n",
       "121          13042  41.900960 -87.623777  41.900960 -87.623777        casual   \n",
       "\n",
       "     ride_lenght week_day month  \n",
       "30           251      NaN   NaN  \n",
       "36          1477      NaN   NaN  \n",
       "40            37      NaN   NaN  \n",
       "72           282      NaN   NaN  \n",
       "121         2156      NaN   NaN  "
      ]
     },
     "execution_count": 12,
     "metadata": {},
     "output_type": "execute_result"
    }
   ],
   "source": [
    "df['ride_lenght'] = (df['ended_at'].astype('int64') // 10**9) - (df['started_at'].astype('int64') // 10**9)\n",
    "df.head(5)"
   ]
  },
  {
   "cell_type": "code",
   "execution_count": 13,
   "metadata": {},
   "outputs": [
    {
     "data": {
      "text/plain": [
       "count    4.629230e+06\n",
       "mean     1.110268e+03\n",
       "std      4.920460e+03\n",
       "min     -7.745000e+03\n",
       "25%      3.840000e+02\n",
       "50%      6.730000e+02\n",
       "75%      1.211000e+03\n",
       "max      2.497750e+06\n",
       "Name: ride_lenght, dtype: float64"
      ]
     },
     "execution_count": 13,
     "metadata": {},
     "output_type": "execute_result"
    }
   ],
   "source": [
    "df['ride_lenght'].describe()"
   ]
  },
  {
   "cell_type": "code",
   "execution_count": 14,
   "metadata": {},
   "outputs": [],
   "source": [
    "#calculate the day of the week of the trip\n",
    "df['week_day'] = df['started_at'].dt.day_name()\n",
    "\n",
    "#calculate the month of the trip\n",
    "df['month'] = df['started_at'].dt.month_name()"
   ]
  },
  {
   "cell_type": "code",
   "execution_count": 15,
   "metadata": {},
   "outputs": [
    {
     "name": "stdout",
     "output_type": "stream",
     "text": [
      "<class 'pandas.core.frame.DataFrame'>\n",
      "Int64Index: 4628395 entries, 30 to 823314\n",
      "Data columns (total 16 columns):\n",
      " #   Column              Dtype         \n",
      "---  ------              -----         \n",
      " 0   ride_id             object        \n",
      " 1   rideable_type       object        \n",
      " 2   started_at          datetime64[ns]\n",
      " 3   ended_at            datetime64[ns]\n",
      " 4   start_station_name  object        \n",
      " 5   start_station_id    object        \n",
      " 6   end_station_name    object        \n",
      " 7   end_station_id      object        \n",
      " 8   start_lat           float64       \n",
      " 9   start_lng           float64       \n",
      " 10  end_lat             float64       \n",
      " 11  end_lng             float64       \n",
      " 12  member_casual       object        \n",
      " 13  ride_lenght         int64         \n",
      " 14  week_day            object        \n",
      " 15  month               object        \n",
      "dtypes: datetime64[ns](2), float64(4), int64(1), object(9)\n",
      "memory usage: 600.3+ MB\n"
     ]
    }
   ],
   "source": [
    "#We can see that some ride lenghts have negative values, lets dropp these rows since they can impare our analysis\n",
    "\n",
    "index_num = df[df['ride_lenght']<0].index\n",
    "df = df.drop(index_num)\n",
    "df.info()"
   ]
  },
  {
   "cell_type": "code",
   "execution_count": 16,
   "metadata": {},
   "outputs": [
    {
     "data": {
      "text/html": [
       "<div>\n",
       "<style scoped>\n",
       "    .dataframe tbody tr th:only-of-type {\n",
       "        vertical-align: middle;\n",
       "    }\n",
       "\n",
       "    .dataframe tbody tr th {\n",
       "        vertical-align: top;\n",
       "    }\n",
       "\n",
       "    .dataframe thead th {\n",
       "        text-align: right;\n",
       "    }\n",
       "</style>\n",
       "<table border=\"1\" class=\"dataframe\">\n",
       "  <thead>\n",
       "    <tr style=\"text-align: right;\">\n",
       "      <th></th>\n",
       "      <th>ride_id</th>\n",
       "      <th>rideable_type</th>\n",
       "      <th>started_at</th>\n",
       "      <th>ended_at</th>\n",
       "      <th>start_station_name</th>\n",
       "      <th>start_station_id</th>\n",
       "      <th>end_station_name</th>\n",
       "      <th>end_station_id</th>\n",
       "      <th>start_lat</th>\n",
       "      <th>start_lng</th>\n",
       "      <th>end_lat</th>\n",
       "      <th>end_lng</th>\n",
       "      <th>member_casual</th>\n",
       "      <th>ride_lenght</th>\n",
       "      <th>week_day</th>\n",
       "      <th>month</th>\n",
       "    </tr>\n",
       "  </thead>\n",
       "  <tbody>\n",
       "    <tr>\n",
       "      <th>30</th>\n",
       "      <td>DD06751C6019D865</td>\n",
       "      <td>classic_bike</td>\n",
       "      <td>2021-08-08 17:21:26</td>\n",
       "      <td>2021-08-08 17:25:37</td>\n",
       "      <td>Desplaines St &amp; Kinzie St</td>\n",
       "      <td>TA1306000003</td>\n",
       "      <td>Kingsbury St &amp; Kinzie St</td>\n",
       "      <td>KA1503000043</td>\n",
       "      <td>41.888716</td>\n",
       "      <td>-87.644448</td>\n",
       "      <td>41.889177</td>\n",
       "      <td>-87.638506</td>\n",
       "      <td>member</td>\n",
       "      <td>251</td>\n",
       "      <td>Sunday</td>\n",
       "      <td>August</td>\n",
       "    </tr>\n",
       "    <tr>\n",
       "      <th>36</th>\n",
       "      <td>79973DC3B232048F</td>\n",
       "      <td>classic_bike</td>\n",
       "      <td>2021-08-27 08:53:52</td>\n",
       "      <td>2021-08-27 09:18:29</td>\n",
       "      <td>Larrabee St &amp; Armitage Ave</td>\n",
       "      <td>TA1309000006</td>\n",
       "      <td>Michigan Ave &amp; Oak St</td>\n",
       "      <td>13042</td>\n",
       "      <td>41.918084</td>\n",
       "      <td>-87.643749</td>\n",
       "      <td>41.900960</td>\n",
       "      <td>-87.623777</td>\n",
       "      <td>member</td>\n",
       "      <td>1477</td>\n",
       "      <td>Friday</td>\n",
       "      <td>August</td>\n",
       "    </tr>\n",
       "    <tr>\n",
       "      <th>40</th>\n",
       "      <td>0249AD4B258806AD</td>\n",
       "      <td>classic_bike</td>\n",
       "      <td>2021-08-08 12:59:18</td>\n",
       "      <td>2021-08-08 12:59:55</td>\n",
       "      <td>Aberdeen St &amp; Jackson Blvd</td>\n",
       "      <td>13157</td>\n",
       "      <td>Aberdeen St &amp; Jackson Blvd</td>\n",
       "      <td>13157</td>\n",
       "      <td>41.877726</td>\n",
       "      <td>-87.654787</td>\n",
       "      <td>41.877726</td>\n",
       "      <td>-87.654787</td>\n",
       "      <td>member</td>\n",
       "      <td>37</td>\n",
       "      <td>Sunday</td>\n",
       "      <td>August</td>\n",
       "    </tr>\n",
       "    <tr>\n",
       "      <th>72</th>\n",
       "      <td>F41EB054E44ACFDA</td>\n",
       "      <td>classic_bike</td>\n",
       "      <td>2021-08-12 16:52:09</td>\n",
       "      <td>2021-08-12 16:56:51</td>\n",
       "      <td>Michigan Ave &amp; Oak St</td>\n",
       "      <td>13042</td>\n",
       "      <td>Michigan Ave &amp; Oak St</td>\n",
       "      <td>13042</td>\n",
       "      <td>41.900960</td>\n",
       "      <td>-87.623777</td>\n",
       "      <td>41.900960</td>\n",
       "      <td>-87.623777</td>\n",
       "      <td>casual</td>\n",
       "      <td>282</td>\n",
       "      <td>Thursday</td>\n",
       "      <td>August</td>\n",
       "    </tr>\n",
       "  </tbody>\n",
       "</table>\n",
       "</div>"
      ],
      "text/plain": [
       "             ride_id rideable_type          started_at            ended_at  \\\n",
       "30  DD06751C6019D865  classic_bike 2021-08-08 17:21:26 2021-08-08 17:25:37   \n",
       "36  79973DC3B232048F  classic_bike 2021-08-27 08:53:52 2021-08-27 09:18:29   \n",
       "40  0249AD4B258806AD  classic_bike 2021-08-08 12:59:18 2021-08-08 12:59:55   \n",
       "72  F41EB054E44ACFDA  classic_bike 2021-08-12 16:52:09 2021-08-12 16:56:51   \n",
       "\n",
       "            start_station_name start_station_id            end_station_name  \\\n",
       "30   Desplaines St & Kinzie St     TA1306000003    Kingsbury St & Kinzie St   \n",
       "36  Larrabee St & Armitage Ave     TA1309000006       Michigan Ave & Oak St   \n",
       "40  Aberdeen St & Jackson Blvd            13157  Aberdeen St & Jackson Blvd   \n",
       "72       Michigan Ave & Oak St            13042       Michigan Ave & Oak St   \n",
       "\n",
       "   end_station_id  start_lat  start_lng    end_lat    end_lng member_casual  \\\n",
       "30   KA1503000043  41.888716 -87.644448  41.889177 -87.638506        member   \n",
       "36          13042  41.918084 -87.643749  41.900960 -87.623777        member   \n",
       "40          13157  41.877726 -87.654787  41.877726 -87.654787        member   \n",
       "72          13042  41.900960 -87.623777  41.900960 -87.623777        casual   \n",
       "\n",
       "    ride_lenght  week_day   month  \n",
       "30          251    Sunday  August  \n",
       "36         1477    Friday  August  \n",
       "40           37    Sunday  August  \n",
       "72          282  Thursday  August  "
      ]
     },
     "execution_count": 16,
     "metadata": {},
     "output_type": "execute_result"
    }
   ],
   "source": [
    "#Let's check how our data is so far\n",
    "df.head(4)"
   ]
  },
  {
   "cell_type": "markdown",
   "metadata": {},
   "source": [
    "> Now we can calculate some basic statisctics for our analysis"
   ]
  },
  {
   "cell_type": "code",
   "execution_count": 17,
   "metadata": {},
   "outputs": [
    {
     "data": {
      "text/html": [
       "<div>\n",
       "<style scoped>\n",
       "    .dataframe tbody tr th:only-of-type {\n",
       "        vertical-align: middle;\n",
       "    }\n",
       "\n",
       "    .dataframe tbody tr th {\n",
       "        vertical-align: top;\n",
       "    }\n",
       "\n",
       "    .dataframe thead th {\n",
       "        text-align: right;\n",
       "    }\n",
       "</style>\n",
       "<table border=\"1\" class=\"dataframe\">\n",
       "  <thead>\n",
       "    <tr style=\"text-align: right;\">\n",
       "      <th></th>\n",
       "      <th>ride_lenght</th>\n",
       "    </tr>\n",
       "  </thead>\n",
       "  <tbody>\n",
       "    <tr>\n",
       "      <th>count</th>\n",
       "      <td>4628395.000000</td>\n",
       "    </tr>\n",
       "    <tr>\n",
       "      <th>mean</th>\n",
       "      <td>1110.333685</td>\n",
       "    </tr>\n",
       "    <tr>\n",
       "      <th>std</th>\n",
       "      <td>4920.856651</td>\n",
       "    </tr>\n",
       "    <tr>\n",
       "      <th>min</th>\n",
       "      <td>0.000000</td>\n",
       "    </tr>\n",
       "    <tr>\n",
       "      <th>25%</th>\n",
       "      <td>384.000000</td>\n",
       "    </tr>\n",
       "    <tr>\n",
       "      <th>50%</th>\n",
       "      <td>673.000000</td>\n",
       "    </tr>\n",
       "    <tr>\n",
       "      <th>75%</th>\n",
       "      <td>1211.000000</td>\n",
       "    </tr>\n",
       "    <tr>\n",
       "      <th>max</th>\n",
       "      <td>2497750.000000</td>\n",
       "    </tr>\n",
       "  </tbody>\n",
       "</table>\n",
       "</div>"
      ],
      "text/plain": [
       "          ride_lenght\n",
       "count  4628395.000000\n",
       "mean      1110.333685\n",
       "std       4920.856651\n",
       "min          0.000000\n",
       "25%        384.000000\n",
       "50%        673.000000\n",
       "75%       1211.000000\n",
       "max    2497750.000000"
      ]
     },
     "execution_count": 17,
     "metadata": {},
     "output_type": "execute_result"
    }
   ],
   "source": [
    "pd.DataFrame(df['ride_lenght'].describe().apply(lambda x: format(x, 'f')))"
   ]
  },
  {
   "cell_type": "markdown",
   "metadata": {},
   "source": [
    "Now, I am going to export my data to upload it to Tableau and get some insights"
   ]
  },
  {
   "cell_type": "code",
   "execution_count": 18,
   "metadata": {},
   "outputs": [
    {
     "data": {
      "text/html": [
       "<div>\n",
       "<style scoped>\n",
       "    .dataframe tbody tr th:only-of-type {\n",
       "        vertical-align: middle;\n",
       "    }\n",
       "\n",
       "    .dataframe tbody tr th {\n",
       "        vertical-align: top;\n",
       "    }\n",
       "\n",
       "    .dataframe thead th {\n",
       "        text-align: right;\n",
       "    }\n",
       "</style>\n",
       "<table border=\"1\" class=\"dataframe\">\n",
       "  <thead>\n",
       "    <tr style=\"text-align: right;\">\n",
       "      <th></th>\n",
       "      <th>Members_trip_duration</th>\n",
       "    </tr>\n",
       "  </thead>\n",
       "  <tbody>\n",
       "    <tr>\n",
       "      <th>count</th>\n",
       "      <td>2679361.000000</td>\n",
       "    </tr>\n",
       "    <tr>\n",
       "      <th>mean</th>\n",
       "      <td>756.066564</td>\n",
       "    </tr>\n",
       "    <tr>\n",
       "      <th>std</th>\n",
       "      <td>1059.629701</td>\n",
       "    </tr>\n",
       "    <tr>\n",
       "      <th>min</th>\n",
       "      <td>0.000000</td>\n",
       "    </tr>\n",
       "    <tr>\n",
       "      <th>25%</th>\n",
       "      <td>323.000000</td>\n",
       "    </tr>\n",
       "    <tr>\n",
       "      <th>50%</th>\n",
       "      <td>550.000000</td>\n",
       "    </tr>\n",
       "    <tr>\n",
       "      <th>75%</th>\n",
       "      <td>939.000000</td>\n",
       "    </tr>\n",
       "    <tr>\n",
       "      <th>max</th>\n",
       "      <td>89575.000000</td>\n",
       "    </tr>\n",
       "  </tbody>\n",
       "</table>\n",
       "</div>"
      ],
      "text/plain": [
       "      Members_trip_duration\n",
       "count        2679361.000000\n",
       "mean             756.066564\n",
       "std             1059.629701\n",
       "min                0.000000\n",
       "25%              323.000000\n",
       "50%              550.000000\n",
       "75%              939.000000\n",
       "max            89575.000000"
      ]
     },
     "execution_count": 18,
     "metadata": {},
     "output_type": "execute_result"
    }
   ],
   "source": [
    "#statistical summary of the ride lenght per Members\n",
    "\n",
    "pd.DataFrame(df.loc[df['member_casual'] == 'member', 'ride_lenght'].describe().apply(lambda x: format(x,'f'))).rename(columns={'ride_lenght':'Members_trip_duration'})"
   ]
  },
  {
   "cell_type": "code",
   "execution_count": 19,
   "metadata": {},
   "outputs": [
    {
     "data": {
      "text/html": [
       "<div>\n",
       "<style scoped>\n",
       "    .dataframe tbody tr th:only-of-type {\n",
       "        vertical-align: middle;\n",
       "    }\n",
       "\n",
       "    .dataframe tbody tr th {\n",
       "        vertical-align: top;\n",
       "    }\n",
       "\n",
       "    .dataframe thead th {\n",
       "        text-align: right;\n",
       "    }\n",
       "</style>\n",
       "<table border=\"1\" class=\"dataframe\">\n",
       "  <thead>\n",
       "    <tr style=\"text-align: right;\">\n",
       "      <th></th>\n",
       "      <th>CasualRiders_trip_duration</th>\n",
       "    </tr>\n",
       "  </thead>\n",
       "  <tbody>\n",
       "    <tr>\n",
       "      <th>count</th>\n",
       "      <td>1949034.000000</td>\n",
       "    </tr>\n",
       "    <tr>\n",
       "      <th>mean</th>\n",
       "      <td>1597.349053</td>\n",
       "    </tr>\n",
       "    <tr>\n",
       "      <th>std</th>\n",
       "      <td>7453.187663</td>\n",
       "    </tr>\n",
       "    <tr>\n",
       "      <th>min</th>\n",
       "      <td>0.000000</td>\n",
       "    </tr>\n",
       "    <tr>\n",
       "      <th>25%</th>\n",
       "      <td>520.000000</td>\n",
       "    </tr>\n",
       "    <tr>\n",
       "      <th>50%</th>\n",
       "      <td>907.000000</td>\n",
       "    </tr>\n",
       "    <tr>\n",
       "      <th>75%</th>\n",
       "      <td>1670.000000</td>\n",
       "    </tr>\n",
       "    <tr>\n",
       "      <th>max</th>\n",
       "      <td>2497750.000000</td>\n",
       "    </tr>\n",
       "  </tbody>\n",
       "</table>\n",
       "</div>"
      ],
      "text/plain": [
       "      CasualRiders_trip_duration\n",
       "count             1949034.000000\n",
       "mean                 1597.349053\n",
       "std                  7453.187663\n",
       "min                     0.000000\n",
       "25%                   520.000000\n",
       "50%                   907.000000\n",
       "75%                  1670.000000\n",
       "max               2497750.000000"
      ]
     },
     "execution_count": 19,
     "metadata": {},
     "output_type": "execute_result"
    }
   ],
   "source": [
    "#statistical summary of the ride lenght per casual riders\n",
    "\n",
    "pd.DataFrame(df.loc[df['member_casual'] == 'casual', 'ride_lenght'].describe().apply(lambda x: format(x,'f'))).rename(columns={'ride_lenght':'CasualRiders_trip_duration'})"
   ]
  },
  {
   "cell_type": "code",
   "execution_count": 20,
   "metadata": {},
   "outputs": [],
   "source": [
    "#droping columns that won't be used for visualization to reduce the file size\n",
    "df.drop(['start_lat','start_lng','end_lat','end_lng','rideable_type','start_station_id','end_station_id','started_at','ended_at'], axis=1, inplace=True)"
   ]
  },
  {
   "cell_type": "code",
   "execution_count": 22,
   "metadata": {},
   "outputs": [],
   "source": [
    "#Exporting data to csv\n",
    "df.to_csv( \"df_analysis.csv\", index=False, header=True, encoding='utf-8-sig')"
   ]
  },
  {
   "cell_type": "markdown",
   "metadata": {},
   "source": [
    "<a id='Share'></a>\n",
    "## Share\n",
    "\n",
    "> I have used Tableau to create vizualizations and get even more insights about the dataset, therefore I will load the images here and commnet on each of them"
   ]
  },
  {
   "cell_type": "code",
   "execution_count": 24,
   "metadata": {},
   "outputs": [
    {
     "data": {
      "image/png": "[encoded data removed]",
      "text/plain": [
       "<IPython.core.display.Image object>"
      ]
     },
     "execution_count": 24,
     "metadata": {},
     "output_type": "execute_result"
    }
   ],
   "source": [
    "from IPython.display import Image\n",
    "Image(filename='avg_lenght.png')"
   ]
  },
  {
   "cell_type": "markdown",
   "metadata": {},
   "source": [
    "Casual users often travel longer distances than members"
   ]
  },
  {
   "cell_type": "code",
   "execution_count": 25,
   "metadata": {
    "scrolled": true
   },
   "outputs": [
    {
     "data": {
      "image/png": "[encoded data removed]",
      "text/plain": [
       "<IPython.core.display.Image object>"
      ]
     },
     "execution_count": 25,
     "metadata": {},
     "output_type": "execute_result"
    }
   ],
   "source": [
    "from IPython.display import Image\n",
    "Image(filename='avg.ride.lenght_WD.png')"
   ]
  },
  {
   "cell_type": "markdown",
   "metadata": {},
   "source": [
    "Weekends are the most popular days of the week for both members type, but casual users have a more significant increase on the duration of the rides. "
   ]
  },
  {
   "cell_type": "code",
   "execution_count": 26,
   "metadata": {
    "scrolled": true
   },
   "outputs": [
    {
     "data": {
      "image/png": "[encoded data removed]",
      "text/plain": [
       "<IPython.core.display.Image object>"
      ]
     },
     "execution_count": 26,
     "metadata": {},
     "output_type": "execute_result"
    }
   ],
   "source": [
    "from IPython.display import Image\n",
    "Image(filename='total_trips_member_type.png')"
   ]
  },
  {
   "cell_type": "markdown",
   "metadata": {},
   "source": [
    "Looking at the total number of rides by user type, we see that members have a higher total number of rides than casual users."
   ]
  },
  {
   "cell_type": "code",
   "execution_count": 27,
   "metadata": {
    "scrolled": true
   },
   "outputs": [
    {
     "data": {
      "image/png": "[encoded data removed]",
      "text/plain": [
       "<IPython.core.display.Image object>"
      ]
     },
     "execution_count": 27,
     "metadata": {},
     "output_type": "execute_result"
    }
   ],
   "source": [
    "from IPython.display import Image\n",
    "Image(filename='trips_by_member_type_WD.png')"
   ]
  },
  {
   "cell_type": "markdown",
   "metadata": {},
   "source": [
    "The behavior noticed in the total number of trips by user types is maintained when we look at the data by days of the week. In genral, members have a larger number of total rides, except for Sunday."
   ]
  },
  {
   "cell_type": "code",
   "execution_count": 28,
   "metadata": {},
   "outputs": [
    {
     "data": {
      "image/png": "[encoded data removed]",
      "text/plain": [
       "<IPython.core.display.Image object>"
      ]
     },
     "execution_count": 28,
     "metadata": {},
     "output_type": "execute_result"
    }
   ],
   "source": [
    "from IPython.display import Image\n",
    "Image(filename='trips_by_member_type_month.png')"
   ]
  },
  {
   "cell_type": "markdown",
   "metadata": {},
   "source": [
    "The distribution over the year appears reasonably equal across user types. The number of rides starts to increase in April, peaks between July and August and then starts to decline. This behavior makes sense, if we think about the seasons of the year, where we have more trips in the summer."
   ]
  },
  {
   "cell_type": "markdown",
   "metadata": {},
   "source": [
    "<a id='Act'></a>\n",
    "## Act\n",
    "\n",
    "Now it's time to shere some of the most interesting findins of my analysis and provide recommendations.\n",
    "\n",
    "### Key discoveries"
   ]
  },
  {
   "cell_type": "markdown",
   "metadata": {},
   "source": [
    "The goal of the analysis was to answer the larger question “How do annual members and casual riders use Cyclistic bikes differently?” Therefore, here are some insights of how they differ from each other."
   ]
  },
  {
   "cell_type": "markdown",
   "metadata": {},
   "source": [
    "1. The average total travel time is 18.5 minutes (1110 seconds). The average travel time for members is 12.6 minutes (756 seconds), while that of casual users is 26.61 minutes (1597 seconds). Therefore, we can infer that the average travel time of casual users is higher. This can be seen both in the statistics and in Graph 1;\n",
    "\n",
    "2. The average travel time is longer on weekends, however, for casual users, we see a more significant increase;\n",
    "\n",
    "3. The total number of trips for members is higher than for casual users;\n",
    "\n",
    "4. The behavior noticed in the total number of trips by user type is maintained when we look at the data by days of the week. In general, members have a larger number of total rides, except for Sunday;\n",
    "\n",
    "5. The distribution over the year appears reasonably equal across user types. The number of rides starts to increase in April, peaks between July and August, and then starts to decline. This behavior makes sense if we think about the seasons of the year, where we have more trips in the summer. Only in August, the number of rides of casual users is bigger."
   ]
  },
  {
   "cell_type": "markdown",
   "metadata": {},
   "source": [
    "> Recommendations"
   ]
  },
  {
   "cell_type": "markdown",
   "metadata": {},
   "source": [
    "1. Offer discounted weekday memberships as members use bikes more on these days;\n",
    "2. Create quarterly membership promotions for the months where there are fewer rides, from January to April, for example;\n",
    "3. Since the average travel time is longer on weekends, there can be some kind of campaing to attract these casual users based on the ride distance."
   ]
  },
  {
   "cell_type": "markdown",
   "metadata": {},
   "source": [
    "> Additional data that could be used to expand the analysis"
   ]
  },
  {
   "cell_type": "markdown",
   "metadata": {},
   "source": [
    "1. Age\n",
    "2. Residential vs commercial areas\n",
    "3. Genre"
   ]
  }
 ],
 "metadata": {
  "kernelspec": {
   "display_name": "Python 3 (ipykernel)",
   "language": "python",
   "name": "python3"
  },
  "language_info": {
   "codemirror_mode": {
    "name": "ipython",
    "version": 3
   },
   "file_extension": ".py",
   "mimetype": "text/x-python",
   "name": "python",
   "nbconvert_exporter": "python",
   "pygments_lexer": "ipython3",
   "version": "3.9.12"
  }
 },
 "nbformat": 4,
 "nbformat_minor": 2
}
